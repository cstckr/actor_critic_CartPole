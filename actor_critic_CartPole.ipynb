{
 "cells": [
  {
   "cell_type": "markdown",
   "id": "2a6a4f21",
   "metadata": {},
   "source": [
    "In this notebook, we will use a Actor-Critic model to solve the CartPole environment by reinforcement learning. First, we will implement our Actor-Critic model:"
   ]
  },
  {
   "cell_type": "code",
   "execution_count": 1,
   "id": "e38d6670",
   "metadata": {},
   "outputs": [],
   "source": [
    "import warnings\n",
    "warnings.simplefilter(\"ignore\")\n",
    "import gym\n",
    "import numpy as np\n",
    "import torch\n",
    "import torch.nn as nn\n",
    "from torch.nn import Linear\n",
    "import torch.nn.functional as F\n",
    "import torch.optim as optim\n",
    "from torch.distributions import Categorical\n",
    "from PIL import Image\n",
    "import matplotlib.pyplot as plt\n",
    "torch.manual_seed(42)\n",
    "\n",
    "\n",
    "class ActorCritic(nn.Module):\n",
    "    def __init__(self, num_states, num_actions, num_hidden):\n",
    "        super(ActorCritic, self).__init__()\n",
    "        self.num_actions = num_states\n",
    "        self.shared = Linear(num_states, num_hidden)       \n",
    "        self.critic = Linear(num_hidden, 1)\n",
    "        self.actor = Linear(num_hidden, num_actions)\n",
    "    \n",
    "    def forward(self, state):\n",
    "        state = torch.from_numpy(state).float()\n",
    "        # Actor\n",
    "        action_probs = self.shared(state)\n",
    "        action_probs = F.relu(action_probs)\n",
    "        action_probs = self.actor(action_probs)\n",
    "        action_probs = F.softmax(action_probs, dim=-1)\n",
    "        \n",
    "        # Critic\n",
    "        critic_val = self.shared(state)\n",
    "        critic_val = F.relu(critic_val)\n",
    "        critic_val = self.critic(critic_val)\n",
    "        return action_probs, critic_val"
   ]
  },
  {
   "cell_type": "markdown",
   "id": "2049a679",
   "metadata": {},
   "source": [
    "Next, we implement a class that brokers all our interactions between the environment and the Actor-Critic model, including training:"
   ]
  },
  {
   "cell_type": "code",
   "execution_count": 2,
   "id": "30f2c7be",
   "metadata": {},
   "outputs": [],
   "source": [
    "class Agent:\n",
    "    def __init__(self, env, model, path_model_pars=None):\n",
    "        self.env = env\n",
    "        self.model = model\n",
    "        if path_model_pars is not None:\n",
    "            self.model.load_state_dict(torch.load(path_model_pars))\n",
    "            self.model.eval()\n",
    "        self._reset()\n",
    "\n",
    "    def _reset(self):\n",
    "        self.state = self.env.reset()\n",
    "        self.action_history = []\n",
    "        self.critic_history = []\n",
    "        self.reward_history = []\n",
    "        self.frames = []\n",
    "    \n",
    "    def _select_action(self):\n",
    "        action_probs, critic_val = self.model(self.state)\n",
    "        distribution = Categorical(action_probs)\n",
    "        action = distribution.sample()\n",
    "        self.action_history.append(distribution.log_prob(action))\n",
    "        self.critic_history.append(critic_val)\n",
    "        return action.item()\n",
    "    \n",
    "    def take_action(self, render=False):\n",
    "        action = self._select_action()\n",
    "        next_state, reward, terminated, _ = self.env.step(action)\n",
    "        self.reward_history.append(reward)\n",
    "        self.state = next_state\n",
    "        if render:\n",
    "            self.frames.append(\n",
    "                Image.fromarray(self.env.render(mode=\"rgb_array\")))\n",
    "            self.env.close()\n",
    "        if terminated:\n",
    "            return terminated\n",
    "        \n",
    "    def _optimize_model(self, gamma):\n",
    "        discounted_reward = 0\n",
    "        discounted_rewards = []\n",
    "        actor_loss = []\n",
    "        critic_loss = []\n",
    "        \n",
    "        for reward in self.reward_history[::-1]:\n",
    "            discounted_reward = reward + gamma * discounted_reward\n",
    "            discounted_rewards.insert(0, discounted_reward)\n",
    "            \n",
    "        discounted_rewards = torch.tensor(\n",
    "            discounted_rewards, dtype=torch.float32)\n",
    "        discounted_rewards = (\n",
    "            (discounted_rewards - discounted_rewards.mean()) / \n",
    "            (discounted_rewards.std() + np.finfo(np.float32).eps))\n",
    "        \n",
    "        for (action_log_prob, critic_val, reward) in zip(\n",
    "                self.action_history, self.critic_history, discounted_rewards):\n",
    "            advantage = reward - critic_val\n",
    "            actor_loss.append((-action_log_prob * advantage))\n",
    "            critic_loss.append(\n",
    "                F.huber_loss(critic_val, reward.unsqueeze(0)))\n",
    "        self.optimizer.zero_grad()\n",
    "        loss = torch.stack(actor_loss).sum() + torch.stack(critic_loss).sum()\n",
    "        loss.backward()\n",
    "        self.optimizer.step()\n",
    "        self._reset()\n",
    "    \n",
    "    def _reset_model(self):\n",
    "        for layer in self.model.children():\n",
    "            if hasattr(layer, \"reset_parameters\"):\n",
    "                layer.reset_parameters()\n",
    "    \n",
    "    def _save_model(self, path):\n",
    "        torch.save(self.model.state_dict(), path)\n",
    "        \n",
    "    def _save_animation(self, path=\"./animation.gif\"):\n",
    "        self.frames[0].save(\n",
    "            path, save_all=True, append_images=self.frames[0:], fps=40, \n",
    "            loop=0)\n",
    "        \n",
    "    def train(self, max_episodes, max_steps_per_episode, lr, gamma, plot=True,\n",
    "              progress_interval=25, save_model=True, path_save_model=\"./model\"):\n",
    "        self._reset_model()\n",
    "        self.optimizer = optim.Adam(self.model.parameters(), lr=lr)\n",
    "        self.running_reward_history = []\n",
    "        self.episode_reward_history = []\n",
    "        \n",
    "        running_reward = 0\n",
    "        running_reward_max = 0\n",
    "        for idx_episode in range(max_episodes):\n",
    "            self._reset()\n",
    "            episode_reward = 0\n",
    "            for idx_step in range(max_steps_per_episode):\n",
    "                terminated = self.take_action()\n",
    "                episode_reward += self.reward_history[-1]\n",
    "                if terminated:\n",
    "                    break\n",
    "            self._optimize_model(gamma)\n",
    "            running_reward = 0.05 * episode_reward + 0.95 * running_reward\n",
    "            self.running_reward_history.append(running_reward)\n",
    "            self.episode_reward_history.append(episode_reward)\n",
    "            \n",
    "            if (running_reward > running_reward_max) & save_model:\n",
    "                running_reward_max = running_reward\n",
    "                self._save_model(path_save_model)\n",
    "            if idx_episode % progress_interval == 0:\n",
    "                print(\n",
    "                    f\"Episode: {str(idx_episode).zfill(4)}; Running reward: {running_reward:.1f}.\")\n",
    "            if running_reward > self.env.spec.reward_threshold:\n",
    "                print(f\"Episode: {idx_episode}: Success\")\n",
    "                break\n",
    "        self.episodes = list(range(idx_episode+1))\n",
    "        if plot:\n",
    "            self._plot_train_loss()\n",
    "                \n",
    "    def _plot_train_loss(self):\n",
    "        fig, ax_a = plt.subplots()\n",
    "        ax_a.plot(self.episodes, self.running_reward_history, color=\"b\")\n",
    "        ax_a.set_xlabel(\"Episode\")\n",
    "        ax_a.set_ylabel(\"Running reward\", color=\"b\")\n",
    "        \n",
    "        ax_b = ax_a.twinx() \n",
    "        ax_b.scatter(self.episodes, self.episode_reward_history, color=\"r\", \n",
    "                     s=2, alpha=0.6)\n",
    "        ax_b.set_ylabel(\"Episode reward\", color=\"r\")\n",
    "        plt.show()\n",
    "    \n",
    "    def infer(self, max_steps_per_episode, path=\"./animation.gif\"):\n",
    "        self._reset()\n",
    "        for idx_step in range(max_steps_per_episode):\n",
    "            terminated = self.take_action(render=True)\n",
    "            if terminated:\n",
    "                print(f\"Stopped at step {idx_step}\")\n",
    "                break\n",
    "        self._save_animation(path=path)"
   ]
  },
  {
   "cell_type": "markdown",
   "id": "4f36b759",
   "metadata": {},
   "source": [
    "Let's train our model:"
   ]
  },
  {
   "cell_type": "code",
   "execution_count": 3,
   "id": "7f55df63",
   "metadata": {},
   "outputs": [
    {
     "name": "stdout",
     "output_type": "stream",
     "text": [
      "Episode: 0000; Running reward: 0.8.\n",
      "Episode: 0025; Running reward: 21.3.\n",
      "Episode: 0050; Running reward: 31.0.\n",
      "Episode: 0075; Running reward: 39.3.\n",
      "Episode: 0100; Running reward: 50.6.\n",
      "Episode: 0125; Running reward: 56.9.\n",
      "Episode: 0150; Running reward: 60.8.\n",
      "Episode: 0175; Running reward: 101.4.\n",
      "Episode: 0200; Running reward: 243.4.\n",
      "Episode: 0225; Running reward: 344.6.\n",
      "Episode: 0250; Running reward: 288.8.\n",
      "Episode: 0275; Running reward: 368.8.\n",
      "Episode: 0300; Running reward: 415.6.\n",
      "Episode: 0325; Running reward: 376.6.\n",
      "Episode: 0350; Running reward: 444.5.\n",
      "Episode: 373: Success\n"
     ]
    },
    {
     "data": {
      "image/png": "[encoded data removed]",
      "text/plain": [
       "<Figure size 640x480 with 2 Axes>"
      ]
     },
     "metadata": {},
     "output_type": "display_data"
    }
   ],
   "source": [
    "agent1 = Agent(\n",
    "    env=gym.make(\"CartPole-v1\"),\n",
    "    model=ActorCritic(4, 2, 64))  \n",
    "\n",
    "agent1.train(max_episodes=1000, max_steps_per_episode=500, lr=5e-3, gamma=0.99)"
   ]
  },
  {
   "cell_type": "markdown",
   "id": "4ad2f60b",
   "metadata": {},
   "source": [
    "Next, we create a new agent and load our model that was saved during the training in the cell above. Then we infer our model in a new episode and create an animation of this episode:"
   ]
  },
  {
   "cell_type": "code",
   "execution_count": 4,
   "id": "dd79de25",
   "metadata": {},
   "outputs": [
    {
     "name": "stdout",
     "output_type": "stream",
     "text": [
      "Stopped at step 499\n"
     ]
    }
   ],
   "source": [
    "agent2 = Agent(\n",
    "    env=gym.make(\"CartPole-v1\"),\n",
    "    model=ActorCritic(4, 2, 64),\n",
    "    path_model_pars=\"./model\")  \n",
    "\n",
    "agent2.infer(max_steps_per_episode=500)"
   ]
  },
  {
   "cell_type": "markdown",
   "id": "6f142d48",
   "metadata": {},
   "source": [
    "Animation of this episode:\n",
    "![display image](./animation.gif)"
   ]
  }
 ],
 "metadata": {
  "kernelspec": {
   "display_name": "Python 3 (ipykernel)",
   "language": "python",
   "name": "python3"
  },
  "language_info": {
   "codemirror_mode": {
    "name": "ipython",
    "version": 3
   },
   "file_extension": ".py",
   "mimetype": "text/x-python",
   "name": "python",
   "nbconvert_exporter": "python",
   "pygments_lexer": "ipython3",
   "version": "3.9.13"
  }
 },
 "nbformat": 4,
 "nbformat_minor": 5
}
